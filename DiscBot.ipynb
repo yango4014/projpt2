{
 "cells": [
  {
   "cell_type": "code",
   "execution_count": 1,
   "id": "2b64b8cd-0615-41e0-9c26-ccbfbfb4c3a6",
   "metadata": {},
   "outputs": [],
   "source": [
    "import os\n",
    "import discord\n",
    "from discord.ext import commands\n",
    "from discord import Intents, Client, Message\n",
    "from random import choice, randint\n",
    "import pandas as pd"
   ]
  },
  {
   "cell_type": "code",
   "execution_count": 2,
   "id": "384523a8-5bd3-47c7-ad49-b801fd5b8d7b",
   "metadata": {
    "collapsed": true,
    "jupyter": {
     "outputs_hidden": true
    }
   },
   "outputs": [
    {
     "data": {
      "text/html": [
       "<div>\n",
       "<style scoped>\n",
       "    .dataframe tbody tr th:only-of-type {\n",
       "        vertical-align: middle;\n",
       "    }\n",
       "\n",
       "    .dataframe tbody tr th {\n",
       "        vertical-align: top;\n",
       "    }\n",
       "\n",
       "    .dataframe thead th {\n",
       "        text-align: right;\n",
       "    }\n",
       "</style>\n",
       "<table border=\"1\" class=\"dataframe\">\n",
       "  <thead>\n",
       "    <tr style=\"text-align: right;\">\n",
       "      <th></th>\n",
       "      <th>property_id</th>\n",
       "      <th>residential_id</th>\n",
       "      <th>estimated_value</th>\n",
       "      <th>sale_price</th>\n",
       "      <th>property_tax_rate</th>\n",
       "    </tr>\n",
       "  </thead>\n",
       "  <tbody>\n",
       "    <tr>\n",
       "      <th>0</th>\n",
       "      <td>21973</td>\n",
       "      <td>1</td>\n",
       "      <td>11830.0</td>\n",
       "      <td>206000.0</td>\n",
       "      <td>1.02595</td>\n",
       "    </tr>\n",
       "    <tr>\n",
       "      <th>1</th>\n",
       "      <td>21974</td>\n",
       "      <td>2</td>\n",
       "      <td>42420.0</td>\n",
       "      <td>52000.0</td>\n",
       "      <td>1.02595</td>\n",
       "    </tr>\n",
       "    <tr>\n",
       "      <th>2</th>\n",
       "      <td>21975</td>\n",
       "      <td>1</td>\n",
       "      <td>11830.0</td>\n",
       "      <td>206000.0</td>\n",
       "      <td>1.02595</td>\n",
       "    </tr>\n",
       "    <tr>\n",
       "      <th>3</th>\n",
       "      <td>21976</td>\n",
       "      <td>3</td>\n",
       "      <td>47040.0</td>\n",
       "      <td>256000.0</td>\n",
       "      <td>1.02595</td>\n",
       "    </tr>\n",
       "    <tr>\n",
       "      <th>4</th>\n",
       "      <td>21977</td>\n",
       "      <td>1</td>\n",
       "      <td>11830.0</td>\n",
       "      <td>206000.0</td>\n",
       "      <td>1.02595</td>\n",
       "    </tr>\n",
       "  </tbody>\n",
       "</table>\n",
       "</div>"
      ],
      "text/plain": [
       "   property_id  residential_id  estimated_value  sale_price  property_tax_rate\n",
       "0        21973               1          11830.0    206000.0            1.02595\n",
       "1        21974               2          42420.0     52000.0            1.02595\n",
       "2        21975               1          11830.0    206000.0            1.02595\n",
       "3        21976               3          47040.0    256000.0            1.02595\n",
       "4        21977               1          11830.0    206000.0            1.02595"
      ]
     },
     "execution_count": 2,
     "metadata": {},
     "output_type": "execute_result"
    }
   ],
   "source": [
    "from sqlalchemy import create_engine\n",
    "\n",
    "username = 'OliviaJYang'\n",
    "password = 'springds2024'\n",
    "host = '127.0.0.1'\n",
    "port = '3306'  \n",
    "database_name = 'rentaldb'\n",
    "\n",
    "#create SQLAlchemy engine object to connect to database\n",
    "engine = create_engine(f\"mysql+pymysql://{username}:{password}@{host}:{port}/{database_name}\") \n",
    "\n",
    "import pandas as pd\n",
    "\n",
    "query = \"SELECT * FROM PropertyDetails\"\n",
    "prop_det_df = pd.read_sql(query, con=engine)\n",
    "prop_det_df.head()\n"
   ]
  },
  {
   "cell_type": "code",
   "execution_count": 3,
   "id": "54200c07-1e40-42c6-b08a-b51e9222c021",
   "metadata": {},
   "outputs": [
    {
     "data": {
      "text/plain": [
       "1.02595"
      ]
     },
     "execution_count": 3,
     "metadata": {},
     "output_type": "execute_result"
    }
   ],
   "source": [
    "this = prop_det_df.loc[prop_det_df['property_id'] == 21973,'property_tax_rate']\n",
    "this[0]"
   ]
  },
  {
   "cell_type": "code",
   "execution_count": 4,
   "id": "efe11e22-e57d-42d8-b209-dcfee69c422e",
   "metadata": {},
   "outputs": [],
   "source": [
    "# Your bot's token obtained from the Discord Developer Portal\n",
    "TOKEN = 'TOKEN HERE'\n",
    "CHANNEL_ID = 1237890312937148527\n",
    "\n",
    "# Initialize the Discord client and bot\n",
    "intents: intents = Intents.default()\n",
    "intents.message_content = True\n",
    "client = Client(intents = intents)\n",
    "client.token = TOKEN\n",
    "\n",
    "bot = commands.Bot(command_prefix = \"\", intents = discord.Intents.all())\n",
    "\n",
    "i=0\n",
    "j=0\n",
    "k=0"
   ]
  },
  {
   "cell_type": "code",
   "execution_count": 5,
   "id": "ed37d45c-c107-4a5d-8e79-f8a106d84344",
   "metadata": {},
   "outputs": [],
   "source": [
    "def get_response(user_input: str) -> str:\n",
    "    lowered: str = user_input.lower()\n",
    "    global i\n",
    "    global j\n",
    "    global k\n",
    "\n",
    "    if lowered == '':\n",
    "        return 'Well, you are quiet'\n",
    "    elif i>0:\n",
    "        rand_prop = choice(prop_det_df['property_id'])\n",
    "        ans = prop_det_df.loc[prop_det_df['property_id'] == rand_prop,'residential_id']\n",
    "        # Check if the user's answer is correct\n",
    "        true_ans = prop_det_df.loc[ans.index[0],'residential_id']\n",
    "        if int(lowered) == int(true_ans):\n",
    "            i-= 1\n",
    "            return 'Correct! Well done.'\n",
    "        else:\n",
    "            i-= 1\n",
    "            return f'Incorrect! The correct answer is: {true_ans}'\n",
    "    elif j>0:\n",
    "         # output correct price\n",
    "        prop_num = int(lowered)\n",
    "        j-= 1\n",
    "        resp = prop_det_df.loc[prop_det_df['property_id'] == prop_num,'sale_price']\n",
    "        true_resp = prop_det_df.loc[resp.index[0],'sale_price']\n",
    "        return str(true_resp)\n",
    "    elif k>0:\n",
    "        # output correct prop tax\n",
    "        prop_num = int(lowered)\n",
    "        k-= 1\n",
    "        resp = prop_det_df.loc[prop_det_df['property_id'] == prop_num,'property_tax_rate']\n",
    "        true_resp = prop_det_df.loc[resp.index[0],'property_tax_rate']\n",
    "        return str(true_resp)\n",
    "    elif 'help' in lowered:\n",
    "        return '''Welcome to the Property Bot! \n",
    "            Use game to start a game where you guess what a random house's residential id is ranging from 1-5 \n",
    "            with 1-4 indicating how many separate living spaces it's split into and 5 being none\n",
    "            \n",
    "            Use price to see the sale price of a house \n",
    "            given its property id ranging from 21973 - 26814\n",
    "            \n",
    "            Use proptaxrate tp see the property tax rate of a house \n",
    "            given its property id ranging from 21973 - 26814'''\n",
    "    elif 'game' in lowered:\n",
    "        i+=1\n",
    "        return \"Guess the random house's residential id 1,2,3,4, or 5\"\n",
    "    elif 'price' in lowered:\n",
    "        j+=1\n",
    "        return 'Enter property id ranging from 21973 - 26814 for its price'\n",
    "    elif 'proptaxrate' in lowered:\n",
    "        k+=1\n",
    "        return 'Enter property id ranging from 21973 - 26814 for its property tax rate'\n",
    "    else:\n",
    "        return \"Incoherrent input, type help for suggestions\"\n",
    "        "
   ]
  },
  {
   "cell_type": "code",
   "execution_count": 6,
   "id": "527d7ed3-f8ff-419d-abb3-9c53185898e2",
   "metadata": {},
   "outputs": [],
   "source": [
    "# Message Function\n",
    "@client.event\n",
    "async def send_message(message: Message, user_message:str):\n",
    "    if not user_message:\n",
    "        print('Message was empty because intents were not enabled...prob')\n",
    "        return\n",
    "    if is_private := user_message[0] == '?':\n",
    "        user_message = user_message[1:]\n",
    "\n",
    "    try:\n",
    "        response: str = get_response(user_message)\n",
    "        await message.author.send(response) if is_private else await message.channel.send(response)\n",
    "    except Exception as e:\n",
    "        print(e)\n",
    "    "
   ]
  },
  {
   "cell_type": "code",
   "execution_count": 7,
   "id": "5051e706-94c6-46d6-aa1a-26cd266b4f74",
   "metadata": {},
   "outputs": [],
   "source": [
    "#Handle start up for bot\n",
    "@client.event\n",
    "async def on_ready():\n",
    "    print(f'{client.user} has connected to Discord!')\n",
    "    channel = bot.get_channel(CHANNEL_ID)\n"
   ]
  },
  {
   "cell_type": "code",
   "execution_count": 8,
   "id": "6efd7272-4bff-4f7c-a529-7bd2642a5d08",
   "metadata": {},
   "outputs": [],
   "source": [
    "#Handle Messages\n",
    "@client.event\n",
    "async def on_message(message: Message):\n",
    "    #bot talking to itself case and checking for previous bot statement for back and forth\n",
    "    if message.author == client.user:\n",
    "        return\n",
    "\n",
    "\n",
    "    username: str=str(message.author)\n",
    "    user_message:str = message.content\n",
    "    channel: str = str(message.channel)\n",
    "\n",
    "    print(f'[{channel}], {username}: \"{user_message}\"')\n",
    "    await send_message(message, user_message)\n",
    "\n",
    "        "
   ]
  },
  {
   "cell_type": "code",
   "execution_count": 9,
   "id": "e38e8cfa-1e40-4d79-b059-201c5d85dfc4",
   "metadata": {},
   "outputs": [],
   "source": [
    "@client.event\n",
    "async def shutdown(context):\n",
    "    exit()"
   ]
  },
  {
   "cell_type": "code",
   "execution_count": 10,
   "id": "35f9a7a9-1990-4ce7-aca8-41dd9490879d",
   "metadata": {},
   "outputs": [],
   "source": [
    "# Run the bot\n",
    "def main() -> None:\n",
    "    client.run(token = TOKEN)"
   ]
  },
  {
   "cell_type": "code",
   "execution_count": 11,
   "id": "29c7ecfc-9305-444d-b576-391ff85cf4d1",
   "metadata": {},
   "outputs": [
    {
     "data": {
      "text/plain": [
       "<Task pending name='Task-5' coro=<Client.start() running at C:\\Users\\olivi\\AppData\\Local\\Programs\\Python\\Python312\\Lib\\site-packages\\discord\\client.py:756>>"
      ]
     },
     "execution_count": 11,
     "metadata": {},
     "output_type": "execute_result"
    },
    {
     "name": "stdout",
     "output_type": "stream",
     "text": [
      "Property Bot#2662 has connected to Discord!\n",
      "[bot-channel], .oliviayang: \"game\"\n",
      "[bot-channel], .oliviayang: \"2\"\n",
      "[bot-channel], .oliviayang: \"help\"\n",
      "[bot-channel], .oliviayang: \"game\"\n",
      "[bot-channel], .oliviayang: \"2\"\n",
      "[bot-channel], .oliviayang: \"price\"\n",
      "[bot-channel], .oliviayang: \"21974\"\n",
      "[bot-channel], .oliviayang: \"proptaxrate\"\n",
      "[bot-channel], .oliviayang: \"21974\"\n"
     ]
    }
   ],
   "source": [
    "import asyncio\n",
    "asyncio.get_event_loop().create_task(client.start(TOKEN))"
   ]
  },
  {
   "cell_type": "code",
   "execution_count": null,
   "id": "be7db03c-c264-4c8d-9ee6-8d8ce52ba6a5",
   "metadata": {},
   "outputs": [],
   "source": []
  }
 ],
 "metadata": {
  "kernelspec": {
   "display_name": "Python 3 (ipykernel)",
   "language": "python",
   "name": "python3"
  },
  "language_info": {
   "codemirror_mode": {
    "name": "ipython",
    "version": 3
   },
   "file_extension": ".py",
   "mimetype": "text/x-python",
   "name": "python",
   "nbconvert_exporter": "python",
   "pygments_lexer": "ipython3",
   "version": "3.12.2"
  }
 },
 "nbformat": 4,
 "nbformat_minor": 5
}
