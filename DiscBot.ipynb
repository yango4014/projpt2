{
 "cells": [
  {
   "cell_type": "code",
   "execution_count": 1,
   "id": "2b64b8cd-0615-41e0-9c26-ccbfbfb4c3a6",
   "metadata": {},
   "outputs": [],
   "source": [
    "import os\n",
    "import discord\n",
    "from discord.ext import commands\n",
    "from discord import Intents, Client, Message\n",
    "from Bot_Responses import get_response\n",
    "from random import choice, randint\n",
    "import pandas as pd"
   ]
  },
  {
   "cell_type": "code",
   "execution_count": 2,
   "id": "efe11e22-e57d-42d8-b209-dcfee69c422e",
   "metadata": {},
   "outputs": [],
   "source": [
    "# Your bot's token obtained from the Discord Developer Portal\n",
    "TOKEN = 'MTIzNzU3NTA3NjE3ODY5NDE2NA.G9TNWi.f3AKeys5HytGHovD48OsA8ty-k2g-YV-wr6l2k'\n",
    "CHANNEL_ID = 1237890312937148527\n",
    "\n",
    "# Initialize the Discord client and bot\n",
    "intents: intents = Intents.default()\n",
    "intents.message_content = True\n",
    "client = Client(intents = intents)\n",
    "client.token = TOKEN\n",
    "\n",
    "bot = commands.Bot(command_prefix = \"\", intents = discord.Intents.all())\n",
    "\n",
    "i=0\n",
    "j=0\n",
    "k=0"
   ]
  },
  {
   "cell_type": "code",
   "execution_count": 3,
   "id": "527d7ed3-f8ff-419d-abb3-9c53185898e2",
   "metadata": {},
   "outputs": [],
   "source": [
    "# Message Function\n",
    "@client.event\n",
    "async def send_message(message: Message, user_message:str):\n",
    "    if not user_message:\n",
    "        print('Message was empty because intents were not enabled...prob')\n",
    "        return\n",
    "    if is_private := user_message[0] == '?':\n",
    "        user_message = user_message[1:]\n",
    "\n",
    "    try:\n",
    "        response: str = get_response(user_message)\n",
    "        await message.author.send(response) if is_private else await message.channel.send(response)\n",
    "    except Exception as e:\n",
    "        print(e)\n",
    "    "
   ]
  },
  {
   "cell_type": "code",
   "execution_count": 4,
   "id": "5051e706-94c6-46d6-aa1a-26cd266b4f74",
   "metadata": {},
   "outputs": [],
   "source": [
    "#Handle start up for bot\n",
    "@client.event\n",
    "async def on_ready():\n",
    "    print(f'{client.user} has connected to Discord!')\n",
    "    channel = bot.get_channel(CHANNEL_ID)\n"
   ]
  },
  {
   "cell_type": "code",
   "execution_count": 5,
   "id": "6efd7272-4bff-4f7c-a529-7bd2642a5d08",
   "metadata": {},
   "outputs": [],
   "source": [
    "#Handle Messages\n",
    "@client.event\n",
    "async def on_message(message: Message):\n",
    "    #bot talking to itself case and checking for previous bot statement for back and forth\n",
    "    if message.author == client.user:\n",
    "        return\n",
    "\n",
    "\n",
    "    username: str=str(message.author)\n",
    "    user_message:str = message.content\n",
    "    channel: str = str(message.channel)\n",
    "\n",
    "    print(f'[{channel}], {username}: \"{user_message}\"')\n",
    "    await send_message(message, user_message)\n",
    "\n",
    "        "
   ]
  },
  {
   "cell_type": "code",
   "execution_count": 6,
   "id": "e38e8cfa-1e40-4d79-b059-201c5d85dfc4",
   "metadata": {},
   "outputs": [],
   "source": [
    "@client.event\n",
    "async def shutdown(context):\n",
    "    exit()"
   ]
  },
  {
   "cell_type": "code",
   "execution_count": 7,
   "id": "35f9a7a9-1990-4ce7-aca8-41dd9490879d",
   "metadata": {},
   "outputs": [],
   "source": [
    "# Run the bot\n",
    "def main() -> None:\n",
    "    client.run(token = TOKEN)"
   ]
  },
  {
   "cell_type": "code",
   "execution_count": 8,
   "id": "29c7ecfc-9305-444d-b576-391ff85cf4d1",
   "metadata": {},
   "outputs": [
    {
     "data": {
      "text/plain": [
       "<Task pending name='Task-5' coro=<Client.start() running at C:\\Users\\olivi\\AppData\\Local\\Programs\\Python\\Python312\\Lib\\site-packages\\discord\\client.py:756>>"
      ]
     },
     "execution_count": 8,
     "metadata": {},
     "output_type": "execute_result"
    },
    {
     "name": "stdout",
     "output_type": "stream",
     "text": [
      "Property Bot#2662 has connected to Discord!\n",
      "[bot-channel], .oliviayang: \"hello\"\n",
      "[bot-channel], .oliviayang: \"help\"\n"
     ]
    }
   ],
   "source": [
    "import asyncio\n",
    "asyncio.get_event_loop().create_task(client.start(TOKEN))"
   ]
  },
  {
   "cell_type": "code",
   "execution_count": null,
   "id": "be7db03c-c264-4c8d-9ee6-8d8ce52ba6a5",
   "metadata": {},
   "outputs": [],
   "source": []
  },
  {
   "cell_type": "code",
   "execution_count": null,
   "id": "800bc536-c457-4a13-b346-fccbbc0dbcff",
   "metadata": {},
   "outputs": [],
   "source": []
  }
 ],
 "metadata": {
  "kernelspec": {
   "display_name": "Python 3 (ipykernel)",
   "language": "python",
   "name": "python3"
  },
  "language_info": {
   "codemirror_mode": {
    "name": "ipython",
    "version": 3
   },
   "file_extension": ".py",
   "mimetype": "text/x-python",
   "name": "python",
   "nbconvert_exporter": "python",
   "pygments_lexer": "ipython3",
   "version": "3.12.2"
  }
 },
 "nbformat": 4,
 "nbformat_minor": 5
}
